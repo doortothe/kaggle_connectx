{
 "cells": [
  {
   "cell_type": "code",
   "execution_count": 1,
   "metadata": {},
   "outputs": [],
   "source": [
    "from kaggle_environments import evaluate, make, utils\n",
    "import numpy as np\n",
    "from collections import defaultdict\n",
    "import random\n",
    "import tqdm.notebook"
   ]
  },
  {
   "cell_type": "code",
   "execution_count": 3,
   "metadata": {},
   "outputs": [],
   "source": [
    "def is_winning_move(grid, config, col, mark):\n",
    "    # Check for draw\n",
    "    if list(grid[0, :]).count(0) == 0:\n",
    "        return True\n",
    "    \n",
    "    # Determine the row of where this piece would drop\n",
    "    for row in range(config.rows-1, -1, -1):\n",
    "        if grid[row][col] == 0:\n",
    "            break\n",
    "    \n",
    "    # Check for vertical alignments\n",
    "    if row >= 3:\n",
    "        if grid[row - 1][col] == mark and grid[row - 2][col] == mark and grid[row - 3][col] == mark:\n",
    "            return true\n",
    "    \n",
    "    for direction_y in range(-1, 2):# iterate on horizontal (0) or two diagonal directions (-1, +1)\n",
    "        num_pieces = 0\n",
    "        \n",
    "        for direction_x in range(-1, 2, 2):\n",
    "            x = col + direction_x\n",
    "            y = row + direction_x * direction_y\n",
    "            \n",
    "            while x >= 0 and x < config.columns and y >= 0 and y < config.rows and grid[y][x] == mark:\n",
    "                x += direction_x\n",
    "                y += direction_x * direction_y\n",
    "                num_pieces += 1\n",
    "            \n",
    "            if num_pieces >= 3: return True\n",
    "            \n",
    "    return False"
   ]
  },
  {
   "cell_type": "code",
   "execution_count": null,
   "metadata": {
    "jupyter": {
     "source_hidden": true
    }
   },
   "outputs": [],
   "source": [
    "def negamax(state, depth, alpha, beta, color, ttlut):\n",
    "    \"\"\"\n",
    "        A negamax function with alpha-beta pruning and memoization.\n",
    "        \n",
    "        :param tuple state: A tuple where state[0] is the game board\n",
    "                            at that state and state[1] the last column\n",
    "                            played.\n",
    "        :param int depth:   The depth examined. While visually we say\n",
    "                            the tree is traversed form lower to higher\n",
    "                            depth, here it is the opposite, so the leaves\n",
    "                            will be at depth 0.\n",
    "        :param float alpha: Parameter alpha for alpha beta pruning.\n",
    "        :param float beta:  Parameter beta for alpha beta pruning.\n",
    "        :param int color:   The player color (e.g. red or blue). Here its \n",
    "                            always 1 for the player, and -1 for the opponent.\n",
    "    \"\"\"\n",
    "    \n",
    "    # Store original alpha value, will be used later.\n",
    "    alphaOrig = alpha\n",
    "    \n",
    "    # Tranform the board to a hashable tuple to be able to be\n",
    "    # looked up in ttlut.\n",
    "    node = tuple(state[0].flatten().tolist())\n",
    "    \n",
    "    # If we have already a record about node at a higher depth\n",
    "    # retrieve its value. The node might be storing the exact\n",
    "    # value, or an upper or lower bound.\n",
    "    if ttlut[node]['valid'] and ttlut[node]['depth'] >= depth:\n",
    "        if ttlut[node]['flag'] == 'EXACT':\n",
    "            return ttlut[node]['value']\n",
    "        elif ttlut[node]['flag'] == 'LOWERBOUND':\n",
    "            alpha = max(alpha, ttlut[node]['value'])\n",
    "        elif ttlut[node]['flag'] == 'UPPERBOUND':\n",
    "            beta = min(alpha, ttlut[node]['value'])\n",
    "            \n",
    "        if alpha >= beta:\n",
    "            return ttlut[node]['value']\n",
    "    \n",
    "    "
   ]
  },
  {
   "cell_type": "markdown",
   "metadata": {},
   "source": [
    "Sources\n",
    "1. Pascal pans\n",
    "2. https://www.kaggle.com/etchourdakis/connect-4-negamax-agent-with-memoization"
   ]
  }
 ],
 "metadata": {
  "kernelspec": {
   "display_name": "Python 3",
   "language": "python",
   "name": "python3"
  },
  "language_info": {
   "codemirror_mode": {
    "name": "ipython",
    "version": 3
   },
   "file_extension": ".py",
   "mimetype": "text/x-python",
   "name": "python",
   "nbconvert_exporter": "python",
   "pygments_lexer": "ipython3",
   "version": "3.8.5"
  }
 },
 "nbformat": 4,
 "nbformat_minor": 4
}
